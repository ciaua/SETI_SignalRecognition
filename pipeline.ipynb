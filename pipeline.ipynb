{
 "cells": [
  {
   "cell_type": "code",
   "execution_count": null,
   "metadata": {
    "collapsed": true
   },
   "outputs": [],
   "source": [
    "import numpy as np\n",
    "from PIL import Image, ImageDraw\n",
    "import matplotlib.pyplot as plt\n",
    "import math\n",
    "from scipy.ndimage import filters\n",
    "import sys\n",
    "from scipy.misc import imread\n",
    "import os\n",
    "import sklearn.preprocessing\n",
    "\n",
    "from time import time\n",
    "\n",
    "from sklearn import metrics\n",
    "from sklearn.cluster import KMeans\n",
    "from sklearn.datasets import load_digits\n",
    "from sklearn.decomposition import PCA\n",
    "from sklearn.preprocessing import scale"
   ]
  },
  {
   "cell_type": "code",
   "execution_count": 2,
   "metadata": {
    "collapsed": false
   },
   "outputs": [],
   "source": [
    "def readData(filename):\n",
    "    f = open(filename)\n",
    "    output = []\n",
    "    for line in f:\n",
    "        output.append([float(num) for num in line.strip().split()])\n",
    "    f.close()\n",
    "    output = np.array(output)\n",
    "    return output\n",
    "        \n",
    "\n",
    "def getFilenames(filepath):\n",
    "    '''input: the filepath of the folder of interest\n",
    "    output: list of all the iflenames in the path of interest'''\n",
    "    f = []\n",
    "    for (dirpath, dirnames, filenames) in os.walk(mypath):\n",
    "        f.extend(filenames)\n",
    "        break\n",
    "    return f\n",
    "\n",
    "def plotFourierRow(row):\n",
    "    #num observations i think\n",
    "    N = len(row)\n",
    "    \n",
    "    # sample spacing\n",
    "    ###???? what is this? time, right? time between observations?\n",
    "    T = 93.0/129\n",
    "    ###????\n",
    "    \n",
    "    x = np.linspace(0.0, N*T, N)\n",
    "    y = np.sin(50.0 * 2.0*np.pi*x) + 0.5*np.sin(80.0 * 2.0*np.pi*x)\n",
    "    yf = row\n",
    "    xf = np.linspace(0.0, 1.0/(2.0*T), N/2)\n",
    "\n",
    "    plt.plot(xf, 2.0/N * np.abs(yf[0:N/2]))\n",
    "    plt.grid()\n",
    "    plt.show()\n",
    "\n",
    "raw_data = readData('ts_data.txt')\n",
    "fTransformed = np.array([np.fft.fft(row) for row in raw_data])\n",
    "# print data.shape, fTransformed.shape\n",
    "# plotFourierRow(fTransformed[200])"
   ]
  },
  {
   "cell_type": "code",
   "execution_count": 3,
   "metadata": {
    "collapsed": false
   },
   "outputs": [
    {
     "name": "stderr",
     "output_type": "stream",
     "text": [
      "/Users/Jason/anaconda/lib/python3.5/site-packages/ipykernel/__main__.py:14: DeprecationWarning: using a non-integer number instead of an integer will result in an error in the future\n"
     ]
    }
   ],
   "source": [
    "#num observations i think\n",
    "N = 100\n",
    "\n",
    "# sample spacing\n",
    "###???? what is this? time, right? time between observations?\n",
    "T = 93.0/129\n",
    "###????\n",
    "\n",
    "x = np.linspace(0.0, N*T, N)\n",
    "y = np.sin(50.0 * 2.0*np.pi*x) + 0.5*np.sin(80.0 * 2.0*np.pi*x)\n",
    "yf = fTransformed[10]\n",
    "xf = np.linspace(0.0, 1.0/(2.0*T), N/2)\n",
    "\n",
    "plt.plot(xf, 2.0/N * np.abs(yf[0:N/2]))\n",
    "plt.grid()\n",
    "plt.show()"
   ]
  },
  {
   "cell_type": "code",
   "execution_count": null,
   "metadata": {
    "collapsed": false
   },
   "outputs": [
    {
     "name": "stdout",
     "output_type": "stream",
     "text": [
      "833 129\n",
      "clusters: 15, \t n_samples 833, \t n_features 129\n",
      "_______________________________________________________________________________\n",
      "init    time  inertia    homo   compl  v-meas     ARI AMI  silhouette\n",
      "k-means++   0.37s    39779489957   0.397   1.000   0.568   0.000   -0.000    0.273\n",
      "   random   0.16s    40013442710   0.398   1.000   0.569   0.000   -0.000    0.260\n"
     ]
    },
    {
     "name": "stderr",
     "output_type": "stream",
     "text": [
      "/Users/Jason/anaconda/lib/python3.5/site-packages/sklearn/cluster/k_means_.py:821: RuntimeWarning: Explicit initial center position passed: performing only one init in k-means instead of n_init=7\n",
      "  n_jobs=self.n_jobs)\n"
     ]
    },
    {
     "name": "stdout",
     "output_type": "stream",
     "text": [
      "PCA-based   0.05s    48920883700   0.365   1.000   0.535   0.000   -0.000    0.246\n",
      "_______________________________________________________________________________\n"
     ]
    }
   ],
   "source": [
    "# Input: X Matrix (each row is a training point)\n",
    "# Output: A vector of labels, corresponding to row indices\n",
    "\n",
    "np.random.seed(341)\n",
    "\n",
    "#data = scale(raw_data) # raw_data = untransformed\n",
    "data = abs(fTransformed) # fTransformed = DTFT\n",
    "\n",
    "n_samples, n_features = data.shape\n",
    "print(n_samples, n_features)\n",
    "#print(data)\n",
    "\n",
    "\n",
    "k = 15 #expected clusters\n",
    "sample_size = n_samples\n",
    "labels = range(n_samples) #If we want to manually label?\n",
    "\n",
    "print(\"clusters: %d, \\t n_samples %d, \\t n_features %d\"\n",
    "      % (k, n_samples, n_features))\n",
    "\n",
    "print(79 * '_')\n",
    "print('% 9s' % 'init'\n",
    "      '    time  inertia    homo   compl  v-meas     ARI AMI  silhouette')\n",
    "\n",
    "def bench_k_means(estimator, name, data):\n",
    "    t0 = time()\n",
    "    estimator.fit(data)\n",
    "    print('% 9s   %.2fs    %i   %.3f   %.3f   %.3f   %.3f   %.3f    %.3f'\n",
    "          % (name, (time() - t0), estimator.inertia_,\n",
    "             metrics.homogeneity_score(labels, estimator.labels_),\n",
    "             metrics.completeness_score(labels, estimator.labels_),\n",
    "             metrics.v_measure_score(labels, estimator.labels_),\n",
    "             metrics.adjusted_rand_score(labels, estimator.labels_),\n",
    "             metrics.adjusted_mutual_info_score(labels,  estimator.labels_),\n",
    "             metrics.silhouette_score(data, estimator.labels_,\n",
    "                                      metric='euclidean',\n",
    "                                      sample_size=sample_size)))\n",
    "\n",
    "\n",
    "bench_k_means(KMeans(init='k-means++', n_clusters=k, n_init=10),\n",
    "              name=\"k-means++\", data=data)\n",
    "\n",
    "bench_k_means(KMeans(init='random', n_clusters=k, n_init=10),\n",
    "              name=\"random\", data=data)\n",
    "\n",
    "# in this case the seeding of the centers is deterministic, hence we run the\n",
    "# kmeans algorithm only once with n_init=1\n",
    "pca = PCA(n_components=k).fit(data)\n",
    "bench_k_means(KMeans(init=pca.components_, n_clusters=k, n_init=7),\n",
    "              name=\"PCA-based\",\n",
    "              data=data)\n",
    "print(79 * '_')\n",
    "\n",
    "###############################################################################\n",
    "# Visualize the results on PCA-reduced data\n",
    "\n",
    "reduced_data = PCA(n_components=2).fit_transform(data)\n",
    "kmeans = KMeans(init='k-means++', n_clusters=k, n_init=10)\n",
    "kmeans.fit(reduced_data)\n",
    "\n",
    "# Step size of the mesh. Decrease to increase the quality of the VQ.\n",
    "h = .02     # point in the mesh [x_min, m_max]x[y_min, y_max].\n",
    "\n",
    "# Plot the decision boundary. For that, we will assign a color to each\n",
    "x_min, x_max = reduced_data[:, 0].min() - 1, reduced_data[:, 0].max() + 1\n",
    "y_min, y_max = reduced_data[:, 1].min() - 1, reduced_data[:, 1].max() + 1\n",
    "xx, yy = np.meshgrid(np.arange(x_min, x_max, h), np.arange(y_min, y_max, h))\n",
    "\n",
    "# Obtain labels for each point in mesh. Use last trained model.\n",
    "Z = kmeans.predict(np.c_[xx.ravel(), yy.ravel()])\n",
    "\n",
    "# Put the result into a color plot\n",
    "Z = Z.reshape(xx.shape)\n",
    "plt.figure(1)\n",
    "plt.clf()\n",
    "plt.imshow(Z, interpolation='nearest',\n",
    "           extent=(xx.min(), xx.max(), yy.min(), yy.max()),\n",
    "           cmap=plt.cm.Paired,\n",
    "           aspect='auto', origin='lower')\n",
    "\n",
    "plt.plot(reduced_data[:, 0], reduced_data[:, 1], 'k.', markersize=2)\n",
    "# Plot the centroids as a white X\n",
    "centroids = kmeans.cluster_centers_\n",
    "plt.scatter(centroids[:, 0], centroids[:, 1],\n",
    "            marker='x', s=169, linewidths=3,\n",
    "            color='w', zorder=10)\n",
    "plt.title('K-means clustering on the scaled DTFT dataset (PCA-reduced data)\\n'\n",
    "          'Centroids are marked with white cross')\n",
    "plt.xlim(x_min, x_max)\n",
    "plt.ylim(y_min, y_max)\n",
    "plt.xticks(())\n",
    "plt.yticks(())\n",
    "plt.show()"
   ]
  },
  {
   "cell_type": "code",
   "execution_count": 50,
   "metadata": {
    "collapsed": false
   },
   "outputs": [
    {
     "data": {
      "text/plain": [
       "array([-1.22474487,  1.39970842, -0.05832118,  0.81649658, -0.93313895])"
      ]
     },
     "execution_count": 50,
     "metadata": {},
     "output_type": "execute_result"
    }
   ],
   "source": [
    "sklearn.preprocessing.scale([1.0,10.0,5,8,2])\n"
   ]
  },
  {
   "cell_type": "code",
   "execution_count": 74,
   "metadata": {
    "collapsed": false
   },
   "outputs": [
    {
     "ename": "IndentationError",
     "evalue": "unexpected indent (<ipython-input-74-d797abfdc8ea>, line 2)",
     "output_type": "error",
     "traceback": [
      "\u001b[1;36m  File \u001b[1;32m\"<ipython-input-74-d797abfdc8ea>\"\u001b[1;36m, line \u001b[1;32m2\u001b[0m\n\u001b[1;33m    N = 129\u001b[0m\n\u001b[1;37m    ^\u001b[0m\n\u001b[1;31mIndentationError\u001b[0m\u001b[1;31m:\u001b[0m unexpected indent\n"
     ]
    }
   ],
   "source": [
    "def plotFourierRow(row):\n",
    "    N = 129\n",
    "    # sample spacing\n",
    "    T = 93.0/129\n",
    "    x = np.linspace(0.0, N*T, N)\n",
    "    y = np.sin(50.0 * 2.0*np.pi*x) + 0.5*np.sin(80.0 * 2.0*np.pi*x)\n",
    "    yf = row\n",
    "    xf = np.linspace(0.0, 1.0/(2.0*T), N/2)\n",
    "\n",
    "    print xf.shape\n",
    "    plt.plot(xf, 2.0/N * np.abs(yf[0:N/2]))\n",
    "    plt.grid()\n",
    "    plt.show()"
   ]
  },
  {
   "cell_type": "code",
   "execution_count": 76,
   "metadata": {
    "collapsed": false
   },
   "outputs": [
    {
     "data": {
      "text/plain": [
       "array([  4.71380000e+04   +0.j        ,  -2.99298352e+03-1439.17616883j,\n",
       "         5.51640132e+01 -691.59348835j,  -2.58225909e+03-1018.65507723j,\n",
       "         3.53012581e+02  +48.79324107j,  -4.40510500e+03 +890.47422241j,\n",
       "        -8.95315751e+02+1201.61754793j,  -9.13871981e+00+3115.72633772j,\n",
       "         1.96201083e+02+1458.89096181j,  -5.12408664e+02+2005.79632626j,\n",
       "         2.86413842e+03+1143.36684783j,   8.14842279e+02+2232.2014908j ,\n",
       "         1.67320995e+03-1878.42378996j,   9.79868408e+02+1090.92214915j,\n",
       "         3.56167693e+01 -726.58398895j,  -6.19781685e+02 +511.56192661j,\n",
       "         3.62704642e+02 +469.2925829j ,   1.50371194e+03+1882.60848938j,\n",
       "         4.57289388e+01-1159.41890549j,  -8.86919446e+01-1258.6663582j ,\n",
       "        -4.00730046e+01 -388.39920924j,  -2.16496438e+03+2144.71968689j,\n",
       "        -7.80797413e+02 -926.30120297j,   2.65450579e+03 +462.21477214j,\n",
       "        -9.91093686e+01  +55.26893353j,  -2.37540621e+03-4121.28379693j,\n",
       "        -1.52851089e+03 +267.61912464j,  -1.58164249e+03 +746.57594158j,\n",
       "        -9.22406552e+02+2034.81155565j,   1.54257996e+03 -516.41847001j,\n",
       "         9.51181916e+02 -296.03216906j,   2.36380753e+03-2202.93415884j,\n",
       "        -2.25726891e+03-1950.80703756j,   2.03716021e+02-1354.62431309j,\n",
       "        -3.52011385e+02 +122.52280486j,  -4.35169144e+01 -814.47967211j,\n",
       "         5.49867856e+02 -611.22830726j,   1.02450492e+02+1674.7203055j ,\n",
       "         2.00864585e+03-1630.49850224j,   2.03743289e+03 -340.15778811j,\n",
       "         5.55117520e+02-1235.48963655j,   4.02644529e+02-1133.23312655j,\n",
       "         5.87098423e+02-1732.22725725j,  -1.29700000e+03 +244.21916387j,\n",
       "         9.26429971e+02 -196.7812635j ,  -1.13822227e+03+1389.32562085j,\n",
       "         1.13261399e+03-1864.3526425j ,  -1.09513751e+03+1601.63673264j,\n",
       "         6.82210687e+02 +559.56354583j,  -9.71954243e+02 +392.06843683j,\n",
       "         1.31894411e+03  +78.4459319j ,  -9.74331465e+02 -589.00141328j,\n",
       "         4.23247031e+02+1549.21271268j,  -1.74060151e+03 -216.7902888j ,\n",
       "         1.04290421e+03 +293.66398879j,   1.11900541e+03 +515.66946161j,\n",
       "        -3.36056199e+02  +53.28991701j,   1.16984055e+01-2505.74591194j,\n",
       "        -2.95972494e+02 -792.83450648j,  -1.91857083e+03 -213.34062626j,\n",
       "        -1.51068788e+03 +889.49427736j,  -4.96340939e+02 -426.47649071j,\n",
       "         4.93223229e+02+1823.10129088j,  -7.63826253e+02 -292.68888727j,\n",
       "         8.36068647e+02 +786.22830972j,   8.36068647e+02 -786.22830972j,\n",
       "        -7.63826253e+02 +292.68888727j,   4.93223229e+02-1823.10129088j,\n",
       "        -4.96340939e+02 +426.47649071j,  -1.51068788e+03 -889.49427736j,\n",
       "        -1.91857083e+03 +213.34062626j,  -2.95972494e+02 +792.83450648j,\n",
       "         1.16984055e+01+2505.74591194j,  -3.36056199e+02  -53.28991701j,\n",
       "         1.11900541e+03 -515.66946161j,   1.04290421e+03 -293.66398879j,\n",
       "        -1.74060151e+03 +216.7902888j ,   4.23247031e+02-1549.21271268j,\n",
       "        -9.74331465e+02 +589.00141328j,   1.31894411e+03  -78.4459319j ,\n",
       "        -9.71954243e+02 -392.06843683j,   6.82210687e+02 -559.56354583j,\n",
       "        -1.09513751e+03-1601.63673264j,   1.13261399e+03+1864.3526425j ,\n",
       "        -1.13822227e+03-1389.32562085j,   9.26429971e+02 +196.7812635j ,\n",
       "        -1.29700000e+03 -244.21916387j,   5.87098423e+02+1732.22725725j,\n",
       "         4.02644529e+02+1133.23312655j,   5.55117520e+02+1235.48963655j,\n",
       "         2.03743289e+03 +340.15778811j,   2.00864585e+03+1630.49850224j,\n",
       "         1.02450492e+02-1674.7203055j ,   5.49867856e+02 +611.22830726j,\n",
       "        -4.35169144e+01 +814.47967211j,  -3.52011385e+02 -122.52280486j,\n",
       "         2.03716021e+02+1354.62431309j,  -2.25726891e+03+1950.80703756j,\n",
       "         2.36380753e+03+2202.93415884j,   9.51181916e+02 +296.03216906j,\n",
       "         1.54257996e+03 +516.41847001j,  -9.22406552e+02-2034.81155565j,\n",
       "        -1.58164249e+03 -746.57594158j,  -1.52851089e+03 -267.61912464j,\n",
       "        -2.37540621e+03+4121.28379693j,  -9.91093686e+01  -55.26893353j,\n",
       "         2.65450579e+03 -462.21477214j,  -7.80797413e+02 +926.30120297j,\n",
       "        -2.16496438e+03-2144.71968689j,  -4.00730046e+01 +388.39920924j,\n",
       "        -8.86919446e+01+1258.6663582j ,   4.57289388e+01+1159.41890549j,\n",
       "         1.50371194e+03-1882.60848938j,   3.62704642e+02 -469.2925829j ,\n",
       "        -6.19781685e+02 -511.56192661j,   3.56167693e+01 +726.58398895j,\n",
       "         9.79868408e+02-1090.92214915j,   1.67320995e+03+1878.42378996j,\n",
       "         8.14842279e+02-2232.2014908j ,   2.86413842e+03-1143.36684783j,\n",
       "        -5.12408664e+02-2005.79632626j,   1.96201083e+02-1458.89096181j,\n",
       "        -9.13871981e+00-3115.72633772j,  -8.95315751e+02-1201.61754793j,\n",
       "        -4.40510500e+03 -890.47422241j,   3.53012581e+02  -48.79324107j,\n",
       "        -2.58225909e+03+1018.65507723j,   5.51640132e+01 +691.59348835j,\n",
       "        -2.99298352e+03+1439.17616883j])"
      ]
     },
     "execution_count": 76,
     "metadata": {},
     "output_type": "execute_result"
    }
   ],
   "source": [
    "fTransformed[10]"
   ]
  }
 ],
 "metadata": {
  "kernelspec": {
   "display_name": "Python 3",
   "language": "python",
   "name": "python3"
  },
  "language_info": {
   "codemirror_mode": {
    "name": "ipython",
    "version": 3
   },
   "file_extension": ".py",
   "mimetype": "text/x-python",
   "name": "python",
   "nbconvert_exporter": "python",
   "pygments_lexer": "ipython3",
   "version": "3.5.1"
  }
 },
 "nbformat": 4,
 "nbformat_minor": 0
}
